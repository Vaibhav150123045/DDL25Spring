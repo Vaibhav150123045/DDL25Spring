{
 "cells": [
  {
   "cell_type": "markdown",
   "metadata": {},
   "source": [
    "# Homework 1"
   ]
  },
  {
   "cell_type": "markdown",
   "metadata": {},
   "source": [
    "## Instructions"
   ]
  },
  {
   "cell_type": "markdown",
   "metadata": {},
   "source": [
    "First, ensure you have cloned the [course repository](https://github.com/lydiaYchen/DDL25Spring).\n",
    "\n",
    "Then, open the [interactive notebook version](https://github.com/lydiaYchen/DDL25Spring/blob/main/lab/homework-1.ipynb) of this homework from your local copy.\n",
    "\n",
    "For part A, fill in the code and answers within the notebook and save your changes.\n",
    "\n",
    "For part B, create and archive the necessary Python/shell scripts together.\n",
    "\n",
    "Finally, upload the notebook and the archive to the assignment in ILIAS."
   ]
  },
  {
   "cell_type": "markdown",
   "metadata": {},
   "source": [
    "## Part A (12 points)"
   ]
  },
  {
   "cell_type": "markdown",
   "metadata": {},
   "source": [
    "### Note"
   ]
  },
  {
   "cell_type": "markdown",
   "metadata": {},
   "source": [
    "When not otherwise specified, use the following parameter values in experiment runs:\n",
    "- `nr_clients` (N): 100\n",
    "- `lr`: 0.01\n",
    "- `client_fraction` (C): 0.1\n",
    "- `nr_local_epochs` (E): 1\n",
    "- `batch_size` (B): 100\n",
    "- `nr_rounds`: 10\n",
    "- `iid`: True\n",
    "\n",
    "For all exercises, pass `seed = 10` to calls for splitting data, server initialization, or plotting."
   ]
  },
  {
   "cell_type": "code",
   "execution_count": 1,
   "metadata": {},
   "outputs": [],
   "source": [
    "import pandas as pd\n",
    "import seaborn as sns\n",
    "from tutorial_1a.hfl_complete import *\n",
    "\n",
    "n = 100\n",
    "lr = 0.01\n",
    "c = 0.1\n",
    "e = 1\n",
    "b = 100\n",
    "nr_rounds = 10\n",
    "iid = True\n",
    "seed = 10"
   ]
  },
  {
   "cell_type": "markdown",
   "metadata": {},
   "source": [
    "### Exercise A1: FedSGD with weights (3 points)"
   ]
  },
  {
   "cell_type": "markdown",
   "metadata": {},
   "source": [
    "#### Question"
   ]
  },
  {
   "cell_type": "markdown",
   "metadata": {},
   "source": [
    "_(2 points)_ Implement a version of FedSGD that uses weights in its updates, like FedAvg, instead of the gradients from the version of the tutorials. The two FedSGD versions should have the same test accuracy after each round (with a tolerance of up to around 0.1%). To show this, compare their output for the following two scenarios over *5 rounds*:\n",
    "- `lr = 0.01, client_subsets = split(100, True, ...), client_fraction = 0.5`\n",
    "- `lr = 0.1, client_subsets = split(50, False, ...), client_fraction = 0.2`\n",
    "\n",
    "*Tip:* You can use the existing FedAvg implementation to minimize the amount of code writing required.\n",
    "\n",
    "_(1 point)_ Explain in which cases (for the different decentralized data learning parameters) weight and gradient FedSGD are equivalent."
   ]
  },
  {
   "cell_type": "markdown",
   "metadata": {},
   "source": [
    "#### Answer"
   ]
  },
  {
   "cell_type": "code",
   "execution_count": 2,
   "metadata": {},
   "outputs": [],
   "source": [
    "%run tutorial_1a/hfl_complete.py"
   ]
  },
  {
   "cell_type": "code",
   "execution_count": null,
   "metadata": {},
   "outputs": [],
   "source": [
    "lr = 0.01\n",
    "sample_split = split(100, True, seed)\n",
    "batch_size = len(train_dataset) # Keeping batch size so that each client trains on the whole data chunk in a single go\n",
    "\n",
    "fedavg_server = FedAvgServer(lr, batch_size, sample_split, 0.5, e, seed)\n",
    "result_fedavg = fedavg_server.run(5)\n",
    "fedavg_df = result_fedavg.as_df()\n",
    "print(\"Results from FedAvg:\")\n",
    "print(fedavg_df)\n",
    "\n",
    "fedsgd_gradient_server = FedSgdGradientServer(lr, sample_split, 0.5, seed)\n",
    "result_fedsgd_gradient = fedsgd_gradient_server.run(5)\n",
    "fedsgd_gradient_df = result_fedsgd_gradient.as_df()\n",
    "print(\"Results from FedSGD:\")\n",
    "print(fedsgd_gradient_df)"
   ]
  },
  {
   "cell_type": "code",
   "execution_count": null,
   "metadata": {},
   "outputs": [],
   "source": [
    "lr = 0.1\n",
    "sample_split = split(50, True, seed)\n",
    "batch_size = len(train_dataset) # Keeping batch size so that each client trains on the whole data chunk in a single go\n",
    "\n",
    "fedavg_server = FedAvgServer(lr, batch_size, sample_split, 0.2, e, seed)\n",
    "result_fedavg = fedavg_server.run(5)\n",
    "fedavg_df = result_fedavg.as_df()\n",
    "print(\"Results from FedAvg:\")\n",
    "print(fedavg_df)\n",
    "\n",
    "fedsgd_gradient_server = FedSgdGradientServer(lr, sample_split, 0.2, seed)\n",
    "result_fedsgd_gradient = fedsgd_gradient_server.run(5)\n",
    "fedsgd_gradient_df = result_fedsgd_gradient.as_df()\n",
    "print(\"Results from FedSGD:\")\n",
    "print(fedsgd_gradient_df)"
   ]
  },
  {
   "cell_type": "markdown",
   "metadata": {},
   "source": [
    "In which cases weight and gradient FedSGD are equivalent?\n",
    "\n",
    "If clients only train for a single step and send weights instead of gradients, weight FedSGD is still effectively gradient FedSGD with weight updates instead of gradient updates.\n",
    "Also, the whole data should be trained as a single batch provided to a client."
   ]
  },
  {
   "cell_type": "markdown",
   "metadata": {},
   "source": [
    "### Exercise A2: Client number & fraction (4 points)"
   ]
  },
  {
   "cell_type": "markdown",
   "metadata": {},
   "source": [
    "#### Question"
   ]
  },
  {
   "cell_type": "markdown",
   "metadata": {},
   "source": [
    "_(2 points)_ Run the necessary experiments to fill in the following table showing the final message count and test accuracy of FedSGD and FedAvg for different total client numbers:\n",
    "\n",
    "| Algorithm | N   | C   | Message count | Test accuracy |\n",
    "| --------- | --- | --- | ------------- | ------------- |\n",
    "| FedSGD    | 10  | 0.1 |               |               |\n",
    "| FedAvg    | 10  | 0.1 |               |               |\n",
    "| FedSGD    | 50  | 0.1 |               |               |\n",
    "| FedAvg    | 50  | 0.1 |               |               |\n",
    "| FedSGD    | 100 | 0.1 |               |               |\n",
    "| FedAvg    | 100 | 0.1 |               |               |\n",
    "\n",
    "Is the relationship between the metrics/algorithms and client numbers monotonous? Briefly explain your reasoning.\n",
    "\n",
    "_(2 points)_ Run the experiments to fill in the table when varying the fraction of clients used in every round:\n",
    "\n",
    "| Algorithm | N   | C    | Message count | Test accuracy |\n",
    "| --------- | --- | ---- | ------------- | ------------- |\n",
    "| FedSGD    | 100 | 0.01 |               |               |\n",
    "| FedAvg    | 100 | 0.01 |               |               |\n",
    "| FedSGD    | 100 | 0.1  |               |               |\n",
    "| FedAvg    | 100 | 0.1  |               |               |\n",
    "| FedSGD    | 100 | 0.2  |               |               |\n",
    "| FedAvg    | 100 | 0.2  |               |               |\n",
    "\n",
    "How do the observed relationships compare to before? Again, succintly argue your answer."
   ]
  },
  {
   "cell_type": "markdown",
   "metadata": {},
   "source": [
    "#### Answer"
   ]
  },
  {
   "cell_type": "code",
   "execution_count": null,
   "metadata": {},
   "outputs": [
    {
     "name": "stderr",
     "output_type": "stream",
     "text": [
      "                                                     \r"
     ]
    },
    {
     "name": "stdout",
     "output_type": "stream",
     "text": [
      "For N = 10, the results from FedAvg are:\n",
      "Round                 5\n",
      "Algorithm        FedAvg\n",
      "N                    10\n",
      "C                   0.1\n",
      "B                   100\n",
      "E                     1\n",
      "η                  0.01\n",
      "Seed                 10\n",
      "Message count        10\n",
      "Test accuracy     91.18\n",
      "Name: 4, dtype: object\n"
     ]
    },
    {
     "name": "stderr",
     "output_type": "stream",
     "text": [
      "                                                     \r"
     ]
    },
    {
     "name": "stdout",
     "output_type": "stream",
     "text": [
      "For N = 10, the results from FedSGD are:\n",
      "Round                         5\n",
      "Algorithm        FedSGDGradient\n",
      "N                            10\n",
      "C                           0.1\n",
      "B                             ∞\n",
      "E                             1\n",
      "η                          0.01\n",
      "Seed                         10\n",
      "Message count                10\n",
      "Test accuracy              27.4\n",
      "Name: 4, dtype: object\n"
     ]
    },
    {
     "name": "stderr",
     "output_type": "stream",
     "text": [
      "                                                     \r"
     ]
    },
    {
     "name": "stdout",
     "output_type": "stream",
     "text": [
      "For N = 50, the results from FedAvg are:\n",
      "Round                 5\n",
      "Algorithm        FedAvg\n",
      "N                    50\n",
      "C                   0.1\n",
      "B                   100\n",
      "E                     1\n",
      "η                  0.01\n",
      "Seed                 10\n",
      "Message count        50\n",
      "Test accuracy      81.4\n",
      "Name: 4, dtype: object\n"
     ]
    },
    {
     "name": "stderr",
     "output_type": "stream",
     "text": [
      "                                                     \r"
     ]
    },
    {
     "name": "stdout",
     "output_type": "stream",
     "text": [
      "For N = 50, the results from FedSGD are:\n",
      "Round                         5\n",
      "Algorithm        FedSGDGradient\n",
      "N                            50\n",
      "C                           0.1\n",
      "B                             ∞\n",
      "E                             1\n",
      "η                          0.01\n",
      "Seed                         10\n",
      "Message count                50\n",
      "Test accuracy             27.46\n",
      "Name: 4, dtype: object\n"
     ]
    },
    {
     "name": "stderr",
     "output_type": "stream",
     "text": [
      "                                                     \r"
     ]
    },
    {
     "name": "stdout",
     "output_type": "stream",
     "text": [
      "For N = 100, the results from FedAvg are:\n",
      "Round                 5\n",
      "Algorithm        FedAvg\n",
      "N                   100\n",
      "C                   0.1\n",
      "B                   100\n",
      "E                     1\n",
      "η                  0.01\n",
      "Seed                 10\n",
      "Message count       100\n",
      "Test accuracy      69.8\n",
      "Name: 4, dtype: object\n"
     ]
    },
    {
     "name": "stderr",
     "output_type": "stream",
     "text": [
      "                                                     "
     ]
    },
    {
     "name": "stdout",
     "output_type": "stream",
     "text": [
      "For N = 100, the results from FedSGD are:\n",
      "Round                         5\n",
      "Algorithm        FedSGDGradient\n",
      "N                           100\n",
      "C                           0.1\n",
      "B                             ∞\n",
      "E                             1\n",
      "η                          0.01\n",
      "Seed                         10\n",
      "Message count               100\n",
      "Test accuracy             27.38\n",
      "Name: 4, dtype: object\n"
     ]
    },
    {
     "name": "stderr",
     "output_type": "stream",
     "text": [
      "\r"
     ]
    }
   ],
   "source": [
    "\n",
    "\n",
    "client_fraction = 0.1\n",
    "num_servers_list = [10, 50, 100]\n",
    "lr = 0.01\n",
    "e = 1\n",
    "seed = 10\n",
    "b = 100\n",
    "\n",
    "for num_servers in num_servers_list:\n",
    "    sample_split = split(num_servers, True, seed)\n",
    "    fedavg_server = FedAvgServer(lr, b, sample_split, client_fraction, e, seed)\n",
    "    result_fedavg = fedavg_server.run(5)\n",
    "    fedavg_df = result_fedavg.as_df()\n",
    "    print(f\"For N = {num_servers}, the results from FedAvg are:\")\n",
    "    print(fedavg_df.loc[4])\n",
    "\n",
    "    fedsgd_gradient_server = FedSgdGradientServer(lr, sample_split, client_fraction, seed)\n",
    "    result_fedsgd_gradient = fedsgd_gradient_server.run(5)\n",
    "    fedsgd_gradient_df = result_fedsgd_gradient.as_df()\n",
    "    print(f\"For N = {num_servers}, the results from FedSGD are:\")\n",
    "    print(fedsgd_gradient_df.loc[4])"
   ]
  },
  {
   "cell_type": "markdown",
   "metadata": {},
   "source": [
    "| Algorithm | N   | C   | Message count | Test accuracy |\n",
    "| --------- | --- | --- | ------------- | ------------- |\n",
    "| FedSGD    | 10  | 0.1 |     10        |      27.40    |\n",
    "| FedAvg    | 10  | 0.1 |     10        |      91.18    |\n",
    "| FedSGD    | 50  | 0.1 |     50        |      27.46    |\n",
    "| FedAvg    | 50  | 0.1 |     50        |      81.40    |\n",
    "| FedSGD    | 100 | 0.1 |     100       |      27.38    |\n",
    "| FedAvg    | 100 | 0.1 |     100       |      69.80    |\n",
    "\n",
    "No, the relationship between the metrics (test accuracy and message count) and the number of clients (N) is not strictly monotonous for both FedSGD and FedAvg.\n",
    "\n",
    "1.\tFedSGD’s Test Accuracy does not change with N (~27%)\n",
    "- Regardless of the number of clients (N = 10, 50, 100), the test accuracy remains nearly the same (~27.4%).\n",
    "- This suggests that increasing the number of clients does not improve performance in FedSGD.\n",
    "2.\tFedAvg’s Test Accuracy Decreases as N Increases\n",
    "- FedAvg achieves 91.18% accuracy for N = 10, but accuracy drops to 81.40% for N = 50, and further down to 69.80% for N = 100.\n",
    "- This shows that FedAvg does not have a strictly increasing (monotonous) relationship with N; instead, accuracy declines as more clients participate.\n",
    "3.\tMessage Count is Monotonically Increasing\n",
    "- Message count is always equal to N, meaning it increases linearly with the number of clients."
   ]
  },
  {
   "cell_type": "code",
   "execution_count": 5,
   "metadata": {},
   "outputs": [
    {
     "name": "stderr",
     "output_type": "stream",
     "text": [
      "                                                     \r"
     ]
    },
    {
     "name": "stdout",
     "output_type": "stream",
     "text": [
      "For N = 100, the results from FedAvg are:\n",
      "Round                 5\n",
      "Algorithm        FedAvg\n",
      "N                   100\n",
      "C                  0.01\n",
      "B                   100\n",
      "E                     1\n",
      "η                  0.01\n",
      "Seed                 10\n",
      "Message count        10\n",
      "Test accuracy     64.96\n",
      "Name: 4, dtype: object\n"
     ]
    },
    {
     "name": "stderr",
     "output_type": "stream",
     "text": [
      "                                                     \r"
     ]
    },
    {
     "name": "stdout",
     "output_type": "stream",
     "text": [
      "For N = 100, the results from FedSGD are:\n",
      "Round                         5\n",
      "Algorithm        FedSGDGradient\n",
      "N                           100\n",
      "C                          0.01\n",
      "B                             ∞\n",
      "E                             1\n",
      "η                          0.01\n",
      "Seed                         10\n",
      "Message count                10\n",
      "Test accuracy             27.92\n",
      "Name: 4, dtype: object\n"
     ]
    },
    {
     "name": "stderr",
     "output_type": "stream",
     "text": [
      "                                                     \r"
     ]
    },
    {
     "name": "stdout",
     "output_type": "stream",
     "text": [
      "For N = 100, the results from FedAvg are:\n",
      "Round                 5\n",
      "Algorithm        FedAvg\n",
      "N                   100\n",
      "C                   0.1\n",
      "B                   100\n",
      "E                     1\n",
      "η                  0.01\n",
      "Seed                 10\n",
      "Message count       100\n",
      "Test accuracy      69.8\n",
      "Name: 4, dtype: object\n"
     ]
    },
    {
     "name": "stderr",
     "output_type": "stream",
     "text": [
      "                                                     \r"
     ]
    },
    {
     "name": "stdout",
     "output_type": "stream",
     "text": [
      "For N = 100, the results from FedSGD are:\n",
      "Round                         5\n",
      "Algorithm        FedSGDGradient\n",
      "N                           100\n",
      "C                           0.1\n",
      "B                             ∞\n",
      "E                             1\n",
      "η                          0.01\n",
      "Seed                         10\n",
      "Message count               100\n",
      "Test accuracy             27.38\n",
      "Name: 4, dtype: object\n"
     ]
    },
    {
     "name": "stderr",
     "output_type": "stream",
     "text": [
      "                                                     \r"
     ]
    },
    {
     "name": "stdout",
     "output_type": "stream",
     "text": [
      "For N = 100, the results from FedAvg are:\n",
      "Round                 5\n",
      "Algorithm        FedAvg\n",
      "N                   100\n",
      "C                   0.2\n",
      "B                   100\n",
      "E                     1\n",
      "η                  0.01\n",
      "Seed                 10\n",
      "Message count       200\n",
      "Test accuracy     65.14\n",
      "Name: 4, dtype: object\n"
     ]
    },
    {
     "name": "stderr",
     "output_type": "stream",
     "text": [
      "                                                     "
     ]
    },
    {
     "name": "stdout",
     "output_type": "stream",
     "text": [
      "For N = 100, the results from FedSGD are:\n",
      "Round                         5\n",
      "Algorithm        FedSGDGradient\n",
      "N                           100\n",
      "C                           0.2\n",
      "B                             ∞\n",
      "E                             1\n",
      "η                          0.01\n",
      "Seed                         10\n",
      "Message count               200\n",
      "Test accuracy             27.42\n",
      "Name: 4, dtype: object\n"
     ]
    },
    {
     "name": "stderr",
     "output_type": "stream",
     "text": [
      "\r"
     ]
    }
   ],
   "source": [
    "client_fraction_list = [0.01, 0.1, 0.2]\n",
    "num_servers = 100\n",
    "sample_split = split(num_servers, True, seed)\n",
    "lr = 0.01\n",
    "e = 1\n",
    "seed = 10\n",
    "b = 100\n",
    "\n",
    "for client_fraction in client_fraction_list:\n",
    "    fedavg_server = FedAvgServer(lr, b, sample_split, client_fraction, e, seed)\n",
    "    result_fedavg = fedavg_server.run(5)\n",
    "    fedavg_df = result_fedavg.as_df()\n",
    "    print(f\"For N = {num_servers}, the results from FedAvg are:\")\n",
    "    print(fedavg_df.loc[4])\n",
    "\n",
    "    fedsgd_gradient_server = FedSgdGradientServer(lr, sample_split, client_fraction, seed)\n",
    "    result_fedsgd_gradient = fedsgd_gradient_server.run(5)\n",
    "    fedsgd_gradient_df = result_fedsgd_gradient.as_df()\n",
    "    print(f\"For N = {num_servers}, the results from FedSGD are:\")\n",
    "    print(fedsgd_gradient_df.loc[4])"
   ]
  },
  {
   "cell_type": "markdown",
   "metadata": {},
   "source": [
    "\n",
    "| Algorithm | N   | C    | Message count | Test accuracy |\n",
    "| --------- | --- | ---- | ------------- | ------------- |\n",
    "| FedSGD    | 100 | 0.01 |     10        |     27.92     |\n",
    "| FedAvg    | 100 | 0.01 |     10        |     64.96     |\n",
    "| FedSGD    | 100 | 0.1  |     100       |     27.38     |\n",
    "| FedAvg    | 100 | 0.1  |     100       |     69.80     |\n",
    "| FedSGD    | 100 | 0.2  |     200       |     27.42     |\n",
    "| FedAvg    | 100 | 0.2  |     200       |     65.14     |\n",
    "\n",
    "1.\tFedSGD’s Test Accuracy Remains Constant (~27%)\n",
    "- Similar to the previous table, FedSGD’s accuracy does not improve with increasing C (fraction of clients participating per round).\n",
    "- This indicates that FedSGD does not benefit from more clients participating per round, likely due to high variance in gradient updates.\n",
    "2.\tFedAvg’s Test Accuracy Initially Increases, then Decreases\n",
    "- When C = 0.01, accuracy is 64.96%.\n",
    "- When C = 0.1, accuracy improves to 69.80%.\n",
    "- When C = 0.2, accuracy drops again to 65.14%.\n",
    "- This follows a non-monotonic trend similar to the previous table, where increasing participation does not always lead to better accuracy.\n",
    "3.\tMessage Count Increases Linearly with C\n",
    "- Since Message Count = N × C, increasing C leads to proportional increases in communication.\n",
    "\n",
    "The trends we see using this table and the previous table, further confirms that FedAvg is more effective than FedSGD, but too many participating clients may harm accuracy due to increased variance in updates."
   ]
  },
  {
   "cell_type": "markdown",
   "metadata": {},
   "source": [
    "### Exercise A3: Local epoch count & (non-)IID data (5 points)"
   ]
  },
  {
   "cell_type": "markdown",
   "metadata": {},
   "source": [
    "#### Question"
   ]
  },
  {
   "cell_type": "markdown",
   "metadata": {},
   "source": [
    "_(1 point)_ Create a line plot of the accuracy after each round for the following algorithm variants:\n",
    "\n",
    "- FedSGD\n",
    "- FedAvg (E=1)\n",
    "- FedAvg (E=2)\n",
    "- FedAvg (E=4)\n",
    "\n",
    "How does FedAvg compare to FedSGD? What is the effect of increasing the work clients perform locally for each update in FedAvg?\n",
    "\n",
    "_(2 points)_ Make one line plot of FedSGD and FedAvg under an IID and non-IID split for 15 rounds (leaving all other parameter values as they previously mentioned default). How does the non-IID setting affect the accuracy achieved by the two algorithms? What is the difference in terms of the smoothness of learning?\n",
    "\n",
    "_(2 points)_ Make another plot for only non-IID splits, including the FedSGD and FedAvg configs from the point above, and add a version for each with a learning rate of 0.001 and client fraction of 0.5. How does the stability of the new variants compare to the ones from before? Why do the changes in parameters have the observed effect?"
   ]
  },
  {
   "cell_type": "markdown",
   "metadata": {},
   "source": [
    "#### Answer"
   ]
  },
  {
   "cell_type": "code",
   "execution_count": 7,
   "metadata": {},
   "outputs": [
    {
     "name": "stderr",
     "output_type": "stream",
     "text": [
      "                                                     \r"
     ]
    }
   ],
   "source": [
    "n = 100\n",
    "lr = 0.01\n",
    "c = 0.1\n",
    "b = 100\n",
    "nr_rounds = 10\n",
    "iid = True\n",
    "seed = 10\n",
    "sample_split = split(n, True, seed)\n",
    "\n",
    "# - SGD\n",
    "fedsgd_gradient_server = FedSgdGradientServer(lr, sample_split, c, seed)\n",
    "result_fedsgd_gradient = fedsgd_gradient_server.run(5)\n",
    "fedsgd_gradient_df = result_fedsgd_gradient.as_df()\n",
    "fedsgd_gradient_accuracies = list(fedsgd_gradient_df['Test accuracy'])\n",
    "\n",
    "\n",
    "# - FedAvg (E=1)\n",
    "e = 1\n",
    "fedavg_server_1epochs = FedAvgServer(lr, b, sample_split, c, e, seed)\n",
    "result_fedavg_1epochs = fedavg_server_1epochs.run(5)\n",
    "fedavg_1epochs_df = result_fedavg_1epochs.as_df()\n",
    "fedavg_1epochs_accuracies = list(fedavg_1epochs_df['Test accuracy'])\n",
    "\n",
    "# - FedAvg (E=2)\n",
    "e = 2\n",
    "fedavg_server_2epochs = FedAvgServer(lr, b, sample_split, c, e, seed)\n",
    "result_fedavg_2epochs = fedavg_server_2epochs.run(5)\n",
    "fedavg_2epochs_df = result_fedavg_2epochs.as_df()\n",
    "fedavg_2epochs_accuracies = list(fedavg_2epochs_df['Test accuracy'])\n",
    "\n",
    "# - FedAvg (E=4)\n",
    "e = 4\n",
    "fedavg_server_4epochs = FedAvgServer(lr, b, sample_split, c, e, seed)\n",
    "result_fedavg_4epochs = fedavg_server_4epochs.run(5)\n",
    "fedavg_4epochs_df = result_fedavg_4epochs.as_df()\n",
    "fedavg_4epochs_accuracies = list(fedavg_4epochs_df['Test accuracy'])\n"
   ]
  },
  {
   "cell_type": "code",
   "execution_count": 13,
   "metadata": {},
   "outputs": [
    {
     "data": {
      "image/png": "[encoded data removed]",
      "text/plain": [
       "<Figure size 640x480 with 1 Axes>"
      ]
     },
     "metadata": {},
     "output_type": "display_data"
    }
   ],
   "source": [
    "import matplotlib.pyplot as plt\n",
    "\n",
    "\n",
    "model_accuracies_assembled = [fedsgd_gradient_accuracies, fedavg_1epochs_accuracies, fedavg_2epochs_accuracies, fedavg_4epochs_accuracies]\n",
    "\n",
    "# Define colors for each line\n",
    "colors = ['blue', 'red', 'green', 'black']\n",
    "labels = ['FedSGD', 'FedAvg (E=1)', 'FedAvg (E=2)', 'FedAvg (E=4)']\n",
    "\n",
    "# Plot each list as a separate line\n",
    "for i, accuracies in enumerate(model_accuracies_assembled):\n",
    "    plt.plot([1, 2, 3, 4, 5], accuracies, marker='o', linestyle='-', color=colors[i], label=labels[i])\n",
    "\n",
    "# Labels and title\n",
    "plt.xlabel('#Round')\n",
    "plt.ylabel('Test Accuracy')\n",
    "plt.title('Model Performances')\n",
    "\n",
    "# Show legend\n",
    "plt.legend()\n",
    "\n",
    "# Show plot\n",
    "plt.show()"
   ]
  },
  {
   "cell_type": "markdown",
   "metadata": {},
   "source": [
    "- FedAvg clearly is an improvement over FedSGD, as we can see we cab achieve a higher accuracy early in our experiment\n",
    "- When we increased local epochs for work clients, we see a sudden improvement in accuracy starting from the first round itself. Also, we see accuracy converging at a higher value in case when local epochs were higher (e=4) in comparision to ones with lesser local epochs (e=1)"
   ]
  },
  {
   "cell_type": "code",
   "execution_count": 4,
   "metadata": {},
   "outputs": [
    {
     "name": "stderr",
     "output_type": "stream",
     "text": [
      "                                                       \r"
     ]
    }
   ],
   "source": [
    "n = 100\n",
    "lr = 0.01\n",
    "c = 0.1\n",
    "b = 100\n",
    "nr_rounds = 15\n",
    "seed = 10\n",
    "e = 1\n",
    "\n",
    "\n",
    "# - SGD IID\n",
    "sample_split = split(n, True, seed)\n",
    "fedsgd_gradient_IID_server = FedSgdGradientServer(lr, sample_split, c, seed)\n",
    "result_fedsgd_gradient_IID = fedsgd_gradient_IID_server.run(nr_rounds)\n",
    "fedsgd_gradient_IID_df = result_fedsgd_gradient_IID.as_df()\n",
    "fedsgd_gradient_IID_accuracies = list(fedsgd_gradient_IID_df['Test accuracy'])\n",
    "\n",
    "# - FedAvg IID\n",
    "sample_split = split(n, True, seed)\n",
    "fedavg_IID_server = FedAvgServer(lr, b, sample_split, c, e, seed)\n",
    "result_fedavg_IID = fedavg_IID_server.run(nr_rounds)\n",
    "fedavg_IID_df = result_fedavg_IID.as_df()\n",
    "fedavg_IID_accuracies = list(fedavg_IID_df['Test accuracy'])\n",
    "\n",
    "# - SGD non-IID\n",
    "sample_split = split(n, False, seed)\n",
    "fedSGD_nonIID_server = FedSgdGradientServer(lr, sample_split, c, seed)\n",
    "result_fedSGD_nonIID = fedSGD_nonIID_server.run(nr_rounds)\n",
    "fedSGD_nonIID_df = result_fedSGD_nonIID.as_df()\n",
    "fedSGD_nonIID_accuracies = list(fedSGD_nonIID_df['Test accuracy'])\n",
    "\n",
    "# - FedAvg non-IID\n",
    "sample_split = split(n, False, seed)\n",
    "fedavg_nonIID_server = FedAvgServer(lr, b, sample_split, c, e, seed)\n",
    "result_fedavg_nonIID = fedavg_nonIID_server.run(nr_rounds)\n",
    "fedavg_nonIID_df = result_fedavg_nonIID.as_df()\n",
    "fedavg_nonIID_accuracies = list(fedavg_nonIID_df['Test accuracy'])"
   ]
  },
  {
   "cell_type": "code",
   "execution_count": 6,
   "metadata": {},
   "outputs": [
    {
     "data": {
      "image/png": "[encoded data removed]",
      "text/plain": [
       "<Figure size 640x480 with 1 Axes>"
      ]
     },
     "metadata": {},
     "output_type": "display_data"
    }
   ],
   "source": [
    "import matplotlib.pyplot as plt\n",
    "\n",
    "\n",
    "model_accuracies_assembled = [fedsgd_gradient_IID_accuracies, fedavg_IID_accuracies, fedSGD_nonIID_accuracies, fedavg_nonIID_accuracies]\n",
    "\n",
    "# Define colors for each line\n",
    "colors = ['grey', 'lightskyblue', 'black', 'blue']\n",
    "labels = ['FedSGD_IID', 'FedAvg_IID', 'FedSGD_nonIID', 'FedAvg_nonIID']\n",
    "\n",
    "# Plot each list as a separate line\n",
    "for i, accuracies in enumerate(model_accuracies_assembled):\n",
    "    plt.plot([i for i in range(1, 16)], accuracies, marker='o', linestyle='-', color=colors[i], label=labels[i])\n",
    "\n",
    "# Labels and title\n",
    "plt.xlabel('#Round')\n",
    "plt.ylabel('Test Accuracy')\n",
    "plt.title('Model Performances')\n",
    "\n",
    "# Show legend\n",
    "plt.legend()\n",
    "\n",
    "# Show plot\n",
    "plt.show()"
   ]
  },
  {
   "cell_type": "markdown",
   "metadata": {},
   "source": [
    "How does the non-IID setting affect the accuracy achieved by the two algorithms? What is the difference in terms of the smoothness of learning?\n",
    "\n",
    "While you can see the overall trend of accuracy increasing for the non-IID setting, the pattern of increase is not smooth at all. There are sudden peaks and sudden drops in the test accuracy.\n",
    "Also, we can see that we achieve higher accuracy with less rounds in the IID case while the non-IID case is taking more rounds to reach to that kind of accuracy.\n",
    "In terms of smoothness, it is very clear that the IID case has a pretty smooth curve while the non-IID case has sudden peaks and drops. Also, the convergence is not so clear for the non-IID case."
   ]
  },
  {
   "cell_type": "code",
   "execution_count": 3,
   "metadata": {},
   "outputs": [
    {
     "name": "stderr",
     "output_type": "stream",
     "text": [
      "                                                       \r"
     ]
    }
   ],
   "source": [
    "n = 100\n",
    "lr = 0.001\n",
    "c = 0.5\n",
    "b = 100\n",
    "nr_rounds = 15\n",
    "seed = 10\n",
    "e = 1\n",
    "\n",
    "# - SGD non-IID\n",
    "sample_split = split(n, False, seed)\n",
    "fedSGD_nonIID_server = FedSgdGradientServer(lr, sample_split, c, seed)\n",
    "result_fedSGD_nonIID = fedSGD_nonIID_server.run(nr_rounds)\n",
    "fedSGD_nonIID_df = result_fedSGD_nonIID.as_df()\n",
    "fedSGD_nonIID_accuracies = list(fedSGD_nonIID_df['Test accuracy'])\n",
    "\n",
    "# - FedAvg non-IID\n",
    "sample_split = split(n, False, seed)\n",
    "fedavg_nonIID_server = FedAvgServer(lr, b, sample_split, c, e, seed)\n",
    "result_fedavg_nonIID = fedavg_nonIID_server.run(nr_rounds)\n",
    "fedavg_nonIID_df = result_fedavg_nonIID.as_df()\n",
    "fedavg_nonIID_accuracies = list(fedavg_nonIID_df['Test accuracy'])"
   ]
  },
  {
   "cell_type": "code",
   "execution_count": 4,
   "metadata": {},
   "outputs": [
    {
     "data": {
      "image/png": "[encoded data removed]",
      "text/plain": [
       "<Figure size 640x480 with 1 Axes>"
      ]
     },
     "metadata": {},
     "output_type": "display_data"
    }
   ],
   "source": [
    "import matplotlib.pyplot as plt\n",
    "\n",
    "\n",
    "model_accuracies_assembled = [fedSGD_nonIID_accuracies, fedavg_nonIID_accuracies]\n",
    "\n",
    "# Define colors for each line\n",
    "colors = ['black', 'blue']\n",
    "labels = ['FedSGD_nonIID', 'FedAvg_nonIID']\n",
    "\n",
    "# Plot each list as a separate line\n",
    "for i, accuracies in enumerate(model_accuracies_assembled):\n",
    "    plt.plot([i for i in range(1, 16)], accuracies, marker='o', linestyle='-', color=colors[i], label=labels[i])\n",
    "\n",
    "# Labels and title\n",
    "plt.xlabel('#Round')\n",
    "plt.ylabel('Test Accuracy')\n",
    "plt.title('Model Performances')\n",
    "\n",
    "# Show legend\n",
    "plt.legend()\n",
    "\n",
    "# Show plot\n",
    "plt.show()"
   ]
  },
  {
   "cell_type": "markdown",
   "metadata": {},
   "source": [
    " How does the stability of the new variants compare to the ones from before? Why do the changes in parameters have the observed effect?\n",
    "\n",
    "This new varient using smaller value of learning rate seems to result in a smoother curve, leading us to understand that there is more stability in this version than the previous experiment where lr was 0.1. This effect is caused due to the fact that when we keep a smaller learning rate, the deviation of weights/gradients from the previous iteration wouldn't be very high, hence, while averaging the weights/gradients provided by each client we would not deviate a lot. Hence, the smoother curve."
   ]
  },
  {
   "cell_type": "markdown",
   "metadata": {},
   "source": [
    "## Part B (12 points)"
   ]
  },
  {
   "cell_type": "markdown",
   "metadata": {},
   "source": [
    "### Exercise B1: Microbatch Pipeline Model Parallelism (7 points)"
   ]
  },
  {
   "cell_type": "markdown",
   "metadata": {},
   "source": [
    "Implement pipeline parallelism with microbatches, as discussed during the lab.\n",
    "\n",
    "As with the other data/model parallelism examples, you will need a Python script for the nodes and a shell script to orchestrate execution.\n",
    "\n",
    "Be aware of the possibility of deadlocks: due to how `gloo` operates, it is possible to deadlock by having device 1 send $B_2$ to device 2 in the forward pass, and simultaneously, device 2 send $B_1$ in the backward pass.\n",
    "Since both sends will await corresponding receives, the training will stop indefinitely.\n",
    "\n",
    "Use `isend` & `irecv`, the asynchronous (non-blocking) versions of `send` & `recv` in `torch.distributed`.\n",
    "Each call of the two function returns a `Work` object, on which calling `wait()` blocks, if needed, until the message exchange finishes.\n",
    "Add comments or text explaining how you expect your implementation to work and test that it runs for the same number of steps and model architecture as in class.\n",
    "\n",
    "Note that `torch.distributed`'s implementation of `gloo` does not currently support properly asynchronous communication even when using the corresponding primitives.\n",
    "Thus, you will not see the same improvements in speed as with a backend like `nccl`.\n",
    "\n",
    "You may also use the fact that `torch` gradients naturally accumulate if zeroed out.\n",
    "Also, scaling the loss by a constant is equivalent to scaling the resulting gradients by the same constant.\n",
    "\n",
    "You can rely on receiving messages in the same order they get sent between any device pair.\n",
    "The `(i)send/recv` functions all support a `tag` attribute to match messages explicitly.\n",
    "Although using it is good practice, it is not required.\n",
    "\n",
    "You can refer to the [documentation](https://pytorch.org/docs/stable/distributed.html) and, if helpful, a related [tutorial](https://brsoff.github.io/tutorials/intermediate/dist_tuto.html) on the PyTorch website."
   ]
  },
  {
   "cell_type": "markdown",
   "metadata": {},
   "source": [
    "### Exercise B2: Joint Data & Model Parallelism (5 points)"
   ]
  },
  {
   "cell_type": "markdown",
   "metadata": {},
   "source": [
    "Implement a training setup that uses data and model parallelism together.\n",
    "\n",
    "Create 2 pipelines of 3 stages running sequentially, where each stage works with 3 sequential micro-batches.\n",
    "\n",
    "Once again, add comments or text explaining your implementation and test it on the setting that mimics those from the class.\n",
    "\n",
    "You can use groups from `torch.distributed` to handle operations that require interaction between a subset of more than two but less than all workers."
   ]
  },
  {
   "cell_type": "markdown",
   "metadata": {},
   "source": []
  }
 ],
 "metadata": {
  "kernelspec": {
   "display_name": ".venv",
   "language": "python",
   "name": "python3"
  },
  "language_info": {
   "codemirror_mode": {
    "name": "ipython",
    "version": 3
   },
   "file_extension": ".py",
   "mimetype": "text/x-python",
   "name": "python",
   "nbconvert_exporter": "python",
   "pygments_lexer": "ipython3",
   "version": "3.11.9"
  }
 },
 "nbformat": 4,
 "nbformat_minor": 2
}
